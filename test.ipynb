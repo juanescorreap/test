{
 "cells": [
  {
   "cell_type": "code",
   "execution_count": null,
   "id": "054e1232-e5d8-40e7-8bd4-c5a57962b76e",
   "metadata": {},
   "outputs": [],
   "source": [
    "import pandas as pd\n",
    "import numpy as np\n",
    "from datetime import datetime, timedelta\n",
    "\n",
    "from googleapiclient.discovery import build\n",
    "from google.oauth2.service_account import Credentials\n",
    "from googleapiclient.http import MediaFileUpload\n",
    "\n",
    "import gspread\n",
    "from oauth2client.service_account import ServiceAccountCredentials\n",
    "import io\n",
    "import smtplib\n",
    "from email.mime.multipart import MIMEMultipart\n",
    "from email.mime.base import MIMEBase\n",
    "from email.mime.text import MIMEText\n",
    "from email.utils import COMMASPACE\n",
    "from email import encoders"
   ]
  },
  {
   "cell_type": "code",
   "execution_count": null,
   "id": "5c31a99a-227b-42af-a4e0-27df42360a87",
   "metadata": {},
   "outputs": [],
   "source": [
    "sender_email = 'esteban.correa@rappi.com'\n",
    "sender_password = 'edbv icou cdzh qlca'\n",
    "remitente = \"\"\"Rappi Turbo Supply\"\"\"\n",
    "\n",
    "\n",
    "recipient_emails = ['juanestebancope@proton.me','johan.mayorga@rappi.com', 'juliana.zarate@rappi.com']\n",
    "\n",
    "# Construye el mensaje de correo electrónico en formato HTML\n",
    "subject = f'ESTE CORREO ES UN TEST DE JUAN ESTEBAN'\n",
    "body = f\"\"\"ESTE CORREO ES UN TEST DE JUAN ESTEBAN PARA CORRER NOTEBOOKS DE JUPYTER LAB DE MANERA 100% AUTOMATICA USANDO GITHUB Y PAPERMILL\"\"\"\n",
    "\n",
    "# Envía el correo electrónico a cada destinatario en la lista\n",
    "for recipient_email in recipient_emails:\n",
    "    message = MIMEMultipart()\n",
    "    message['From'] = remitente\n",
    "    message['To'] = recipient_email\n",
    "    message['Subject'] = subject\n",
    "    message.attach(MIMEText(body, 'html'))\n",
    "\n",
    "    # Establece la conexión con el servidor SMTP de Gmail\n",
    "    try:\n",
    "        server = smtplib.SMTP('smtp.gmail.com', 587)\n",
    "        server.starttls()\n",
    "        server.login(sender_email, sender_password)\n",
    "\n",
    "        # Envía el mensaje de correo electrónico\n",
    "        server.sendmail(sender_email, recipient_email, message.as_string())\n",
    "        print(f'Correo electrónico enviado con éxito a {recipient_email}')\n",
    "    except Exception as e:\n",
    "        print(f'Error al enviar el correo electrónico a {recipient_email}: {str(e)}')\n",
    "    finally:\n",
    "        # Cierra la conexión con el servidor SMTP\n",
    "        server.quit()"
   ]
  }
 ],
 "metadata": {
  "kernelspec": {
   "display_name": "Python 3 (ipykernel)",
   "language": "python",
   "name": "python3"
  },
  "language_info": {
   "codemirror_mode": {
    "name": "ipython",
    "version": 3
   },
   "file_extension": ".py",
   "mimetype": "text/x-python",
   "name": "python",
   "nbconvert_exporter": "python",
   "pygments_lexer": "ipython3",
   "version": "3.11.7"
  }
 },
 "nbformat": 4,
 "nbformat_minor": 5
}
